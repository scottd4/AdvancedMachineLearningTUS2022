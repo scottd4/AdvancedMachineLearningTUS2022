{
 "cells": [
  {
   "cell_type": "markdown",
   "metadata": {},
   "source": [
    "# TensorFlow"
   ]
  },
  {
   "cell_type": "markdown",
   "metadata": {},
   "source": [
    "### Boston dataset"
   ]
  },
  {
   "cell_type": "code",
   "execution_count": 36,
   "metadata": {},
   "outputs": [
    {
     "data": {
      "text/html": [
       "<div>\n",
       "<style scoped>\n",
       "    .dataframe tbody tr th:only-of-type {\n",
       "        vertical-align: middle;\n",
       "    }\n",
       "\n",
       "    .dataframe tbody tr th {\n",
       "        vertical-align: top;\n",
       "    }\n",
       "\n",
       "    .dataframe thead th {\n",
       "        text-align: right;\n",
       "    }\n",
       "</style>\n",
       "<table border=\"1\" class=\"dataframe\">\n",
       "  <thead>\n",
       "    <tr style=\"text-align: right;\">\n",
       "      <th></th>\n",
       "      <th>loss</th>\n",
       "      <th>mse</th>\n",
       "      <th>mae</th>\n",
       "      <th>val_loss</th>\n",
       "      <th>val_mse</th>\n",
       "      <th>val_mae</th>\n",
       "      <th>epoch</th>\n",
       "    </tr>\n",
       "  </thead>\n",
       "  <tbody>\n",
       "    <tr>\n",
       "      <th>0</th>\n",
       "      <td>623.237305</td>\n",
       "      <td>623.237305</td>\n",
       "      <td>23.276068</td>\n",
       "      <td>608.087097</td>\n",
       "      <td>608.087097</td>\n",
       "      <td>22.830746</td>\n",
       "      <td>0</td>\n",
       "    </tr>\n",
       "    <tr>\n",
       "      <th>1</th>\n",
       "      <td>615.202026</td>\n",
       "      <td>615.202026</td>\n",
       "      <td>23.102831</td>\n",
       "      <td>600.327637</td>\n",
       "      <td>600.327637</td>\n",
       "      <td>22.659775</td>\n",
       "      <td>1</td>\n",
       "    </tr>\n",
       "    <tr>\n",
       "      <th>2</th>\n",
       "      <td>607.116699</td>\n",
       "      <td>607.116699</td>\n",
       "      <td>22.929295</td>\n",
       "      <td>592.555054</td>\n",
       "      <td>592.555054</td>\n",
       "      <td>22.485912</td>\n",
       "      <td>2</td>\n",
       "    </tr>\n",
       "    <tr>\n",
       "      <th>3</th>\n",
       "      <td>599.119080</td>\n",
       "      <td>599.119080</td>\n",
       "      <td>22.751333</td>\n",
       "      <td>584.546997</td>\n",
       "      <td>584.546997</td>\n",
       "      <td>22.302778</td>\n",
       "      <td>3</td>\n",
       "    </tr>\n",
       "    <tr>\n",
       "      <th>4</th>\n",
       "      <td>590.642090</td>\n",
       "      <td>590.642090</td>\n",
       "      <td>22.567390</td>\n",
       "      <td>576.192078</td>\n",
       "      <td>576.192078</td>\n",
       "      <td>22.108034</td>\n",
       "      <td>4</td>\n",
       "    </tr>\n",
       "    <tr>\n",
       "      <th>...</th>\n",
       "      <td>...</td>\n",
       "      <td>...</td>\n",
       "      <td>...</td>\n",
       "      <td>...</td>\n",
       "      <td>...</td>\n",
       "      <td>...</td>\n",
       "      <td>...</td>\n",
       "    </tr>\n",
       "    <tr>\n",
       "      <th>495</th>\n",
       "      <td>21.317287</td>\n",
       "      <td>21.317287</td>\n",
       "      <td>3.184507</td>\n",
       "      <td>19.874008</td>\n",
       "      <td>19.874008</td>\n",
       "      <td>3.498882</td>\n",
       "      <td>495</td>\n",
       "    </tr>\n",
       "    <tr>\n",
       "      <th>496</th>\n",
       "      <td>21.341599</td>\n",
       "      <td>21.341599</td>\n",
       "      <td>3.212393</td>\n",
       "      <td>19.890121</td>\n",
       "      <td>19.890121</td>\n",
       "      <td>3.498357</td>\n",
       "      <td>496</td>\n",
       "    </tr>\n",
       "    <tr>\n",
       "      <th>497</th>\n",
       "      <td>21.293051</td>\n",
       "      <td>21.293051</td>\n",
       "      <td>3.187842</td>\n",
       "      <td>19.723093</td>\n",
       "      <td>19.723093</td>\n",
       "      <td>3.496156</td>\n",
       "      <td>497</td>\n",
       "    </tr>\n",
       "    <tr>\n",
       "      <th>498</th>\n",
       "      <td>21.309977</td>\n",
       "      <td>21.309977</td>\n",
       "      <td>3.162991</td>\n",
       "      <td>19.719282</td>\n",
       "      <td>19.719282</td>\n",
       "      <td>3.495945</td>\n",
       "      <td>498</td>\n",
       "    </tr>\n",
       "    <tr>\n",
       "      <th>499</th>\n",
       "      <td>21.256891</td>\n",
       "      <td>21.256891</td>\n",
       "      <td>3.167490</td>\n",
       "      <td>19.856716</td>\n",
       "      <td>19.856716</td>\n",
       "      <td>3.496237</td>\n",
       "      <td>499</td>\n",
       "    </tr>\n",
       "  </tbody>\n",
       "</table>\n",
       "<p>500 rows × 7 columns</p>\n",
       "</div>"
      ],
      "text/plain": [
       "           loss         mse        mae    val_loss     val_mse    val_mae  \\\n",
       "0    623.237305  623.237305  23.276068  608.087097  608.087097  22.830746   \n",
       "1    615.202026  615.202026  23.102831  600.327637  600.327637  22.659775   \n",
       "2    607.116699  607.116699  22.929295  592.555054  592.555054  22.485912   \n",
       "3    599.119080  599.119080  22.751333  584.546997  584.546997  22.302778   \n",
       "4    590.642090  590.642090  22.567390  576.192078  576.192078  22.108034   \n",
       "..          ...         ...        ...         ...         ...        ...   \n",
       "495   21.317287   21.317287   3.184507   19.874008   19.874008   3.498882   \n",
       "496   21.341599   21.341599   3.212393   19.890121   19.890121   3.498357   \n",
       "497   21.293051   21.293051   3.187842   19.723093   19.723093   3.496156   \n",
       "498   21.309977   21.309977   3.162991   19.719282   19.719282   3.495945   \n",
       "499   21.256891   21.256891   3.167490   19.856716   19.856716   3.496237   \n",
       "\n",
       "     epoch  \n",
       "0        0  \n",
       "1        1  \n",
       "2        2  \n",
       "3        3  \n",
       "4        4  \n",
       "..     ...  \n",
       "495    495  \n",
       "496    496  \n",
       "497    497  \n",
       "498    498  \n",
       "499    499  \n",
       "\n",
       "[500 rows x 7 columns]"
      ]
     },
     "execution_count": 36,
     "metadata": {},
     "output_type": "execute_result"
    }
   ],
   "source": [
    "import tensorflow as tf\n",
    "\n",
    "from sklearn.datasets import load_boston\n",
    "from sklearn.model_selection import train_test_split\n",
    "from sklearn.preprocessing import MinMaxScaler\n",
    "from tensorflow.keras.layers import Conv2D, MaxPooling2D, Dropout, Flatten, Dense\n",
    "\n",
    "import pandas as pd\n",
    "import numpy as np\n",
    "\n",
    "boston = load_boston()\n",
    "\n",
    "X = pd.DataFrame(boston.data)\n",
    "y = boston.target\n",
    "\n",
    "x_train, x_test, y_train, y_test = train_test_split(X, y, test_size=.33, random_state = 32)\n",
    "\n",
    "scaler = MinMaxScaler(feature_range=(0,1))\n",
    "\n",
    "x_train = scaler.fit_transform(x_train)\n",
    "x_test =  scaler.transform(x_test)\n",
    "\n",
    "model = tf.keras.models.Sequential([\n",
    "    tf.keras.layers.Dense(20, input_dim=13, activation='relu'),\n",
    "    #tf.keras.layers.Dropout(0.2),\n",
    "    tf.keras.layers.Dense(1, activation='linear')\n",
    "])\n",
    "\n",
    "model.compile(optimizer='adam', loss='mse', metrics=['mse','mae'])\n",
    "\n",
    "\n",
    "history = model.fit(x_train, y_train, epochs=500, verbose=0, validation_split = 0.1)\n",
    "\n",
    "\n",
    "\n",
    "df = pd.DataFrame(history.history)\n",
    "df['epoch'] = history.epoch\n",
    "\n",
    "df"
   ]
  },
  {
   "cell_type": "code",
   "execution_count": 37,
   "metadata": {},
   "outputs": [
    {
     "name": "stdout",
     "output_type": "stream",
     "text": [
      "First Root Mean Square Error on Training set: 24.659\n",
      "Final Root Mean Square Error on Training set: 4.456\n"
     ]
    }
   ],
   "source": [
    "rmse_first = np.sqrt(float(df['val_mse'].head(1)))\n",
    "rmse_final = np.sqrt(float(df['val_mse'].tail(1)))\n",
    "\n",
    "print('First Root Mean Square Error on Training set: {}'.format(round(rmse_first, 3)))\n",
    "print('Final Root Mean Square Error on Training set: {}'.format(round(rmse_final, 3)))"
   ]
  },
  {
   "cell_type": "code",
   "execution_count": 38,
   "metadata": {},
   "outputs": [
    {
     "data": {
      "text/plain": [
       "(0.0, 50.0)"
      ]
     },
     "execution_count": 38,
     "metadata": {},
     "output_type": "execute_result"
    },
    {
     "data": {
      "image/png": "[encoded data removed]",
      "text/plain": [
       "<Figure size 432x288 with 1 Axes>"
      ]
     },
     "metadata": {
      "needs_background": "light"
     },
     "output_type": "display_data"
    }
   ],
   "source": [
    "from matplotlib import pyplot as plt\n",
    "\n",
    "plt.figure()\n",
    "plt.xlabel('Epoch')\n",
    "plt.ylabel('Mean Square Error')\n",
    "plt.plot(df['epoch'], df['mse'], label='Train Error')\n",
    "plt.plot(df['epoch'], df['val_mse'], label = 'Val Error')\n",
    "plt.legend()\n",
    "plt.ylim([0,50])"
   ]
  },
  {
   "cell_type": "markdown",
   "metadata": {},
   "source": [
    "### Using Test Data"
   ]
  },
  {
   "cell_type": "code",
   "execution_count": 30,
   "metadata": {},
   "outputs": [
    {
     "name": "stdout",
     "output_type": "stream",
     "text": [
      "Root Mean Square Error on Test set: 5.232\n"
     ]
    }
   ],
   "source": [
    "loss,mse,mae =  model.evaluate(x_test, y_test, verbose=0)\n",
    "\n",
    "rmse = np.sqrt(mse)\n",
    "\n",
    "print('Root Mean Square Error on Test set: {}'.format(round(rmse, 3)))\n"
   ]
  },
  {
   "cell_type": "code",
   "execution_count": 31,
   "metadata": {},
   "outputs": [
    {
     "name": "stdout",
     "output_type": "stream",
     "text": [
      "R2 Score on Training set: 0.691\n"
     ]
    }
   ],
   "source": [
    "y_pred = model.predict(x_test)\n",
    "\n",
    "from sklearn.metrics import r2_score\n",
    "\n",
    "print('R2 Score on Training set: {}'.format(round(r2_score(y_test, y_pred), 3)))"
   ]
  },
  {
   "cell_type": "markdown",
   "metadata": {},
   "source": [
    "### MNIST Digits"
   ]
  },
  {
   "cell_type": "code",
   "execution_count": 116,
   "metadata": {},
   "outputs": [
    {
     "name": "stdout",
     "output_type": "stream",
     "text": [
      "[[ 0.19664851  0.59010434 -0.27751008  0.41849208  0.07198575 -0.04175621\n",
      "  -0.00842755 -0.8650266   0.18778972 -0.097311  ]]\n",
      "[5]\n"
     ]
    }
   ],
   "source": [
    "mnist = tf.keras.datasets.mnist\n",
    "\n",
    "(x_train, y_train), (x_test, y_test) = mnist.load_data()\n",
    "x_train, x_test = x_train / 255.0, x_test / 255.0\n",
    "\n",
    "\n",
    "model = tf.keras.models.Sequential([\n",
    "  tf.keras.layers.Flatten(input_shape=(28, 28)),\n",
    "  tf.keras.layers.Dense(128, activation='relu'),\n",
    "  tf.keras.layers.Dropout(0.2),\n",
    "  tf.keras.layers.Dense(10)\n",
    "])\n",
    "\n",
    "predictions = model(x_train[:1]).numpy()\n",
    "\n",
    "print(predictions)\n",
    "print(y_train[:1])"
   ]
  },
  {
   "cell_type": "code",
   "execution_count": 117,
   "metadata": {},
   "outputs": [
    {
     "data": {
      "text/plain": [
       "array([[0.11210128, 0.16614461, 0.06977279, 0.13994455, 0.0989624 ,\n",
       "        0.08832277, 0.09131605, 0.03877314, 0.11111258, 0.08354983]],\n",
       "      dtype=float32)"
      ]
     },
     "execution_count": 117,
     "metadata": {},
     "output_type": "execute_result"
    }
   ],
   "source": [
    "tf.nn.softmax(predictions).numpy()"
   ]
  },
  {
   "cell_type": "code",
   "execution_count": 124,
   "metadata": {},
   "outputs": [
    {
     "data": {
      "text/html": [
       "<div>\n",
       "<style scoped>\n",
       "    .dataframe tbody tr th:only-of-type {\n",
       "        vertical-align: middle;\n",
       "    }\n",
       "\n",
       "    .dataframe tbody tr th {\n",
       "        vertical-align: top;\n",
       "    }\n",
       "\n",
       "    .dataframe thead th {\n",
       "        text-align: right;\n",
       "    }\n",
       "</style>\n",
       "<table border=\"1\" class=\"dataframe\">\n",
       "  <thead>\n",
       "    <tr style=\"text-align: right;\">\n",
       "      <th></th>\n",
       "      <th>loss</th>\n",
       "      <th>accuracy</th>\n",
       "    </tr>\n",
       "  </thead>\n",
       "  <tbody>\n",
       "    <tr>\n",
       "      <th>0</th>\n",
       "      <td>0.011511</td>\n",
       "      <td>0.996650</td>\n",
       "    </tr>\n",
       "    <tr>\n",
       "      <th>1</th>\n",
       "      <td>0.010565</td>\n",
       "      <td>0.996483</td>\n",
       "    </tr>\n",
       "    <tr>\n",
       "      <th>2</th>\n",
       "      <td>0.011667</td>\n",
       "      <td>0.996350</td>\n",
       "    </tr>\n",
       "    <tr>\n",
       "      <th>3</th>\n",
       "      <td>0.011654</td>\n",
       "      <td>0.996383</td>\n",
       "    </tr>\n",
       "    <tr>\n",
       "      <th>4</th>\n",
       "      <td>0.012087</td>\n",
       "      <td>0.996133</td>\n",
       "    </tr>\n",
       "  </tbody>\n",
       "</table>\n",
       "</div>"
      ],
      "text/plain": [
       "       loss  accuracy\n",
       "0  0.011511  0.996650\n",
       "1  0.010565  0.996483\n",
       "2  0.011667  0.996350\n",
       "3  0.011654  0.996383\n",
       "4  0.012087  0.996133"
      ]
     },
     "execution_count": 124,
     "metadata": {},
     "output_type": "execute_result"
    }
   ],
   "source": [
    "loss_fn = tf.keras.losses.SparseCategoricalCrossentropy(from_logits=True)\n",
    "\n",
    "loss_fn(y_train[:1], predictions).numpy()\n",
    "\n",
    "model.compile(optimizer='adam',\n",
    "              loss=loss_fn,\n",
    "              metrics=['accuracy'])\n",
    "\n",
    "history = model.fit(x_train, y_train, epochs=5, verbose=0)\n",
    "\n",
    "df = pd.DataFrame(history.history)\n",
    "\n",
    "df"
   ]
  },
  {
   "cell_type": "code",
   "execution_count": 126,
   "metadata": {},
   "outputs": [
    {
     "data": {
      "text/plain": [
       "[0.15990760922431946, 0.9805999994277954]"
      ]
     },
     "execution_count": 126,
     "metadata": {},
     "output_type": "execute_result"
    }
   ],
   "source": [
    "model.evaluate(x_test,  y_test, verbose=0)"
   ]
  },
  {
   "cell_type": "markdown",
   "metadata": {},
   "source": [
    "### Deep and Wide"
   ]
  },
  {
   "cell_type": "code",
   "execution_count": 32,
   "metadata": {},
   "outputs": [
    {
     "data": {
      "text/html": [
       "<div>\n",
       "<style scoped>\n",
       "    .dataframe tbody tr th:only-of-type {\n",
       "        vertical-align: middle;\n",
       "    }\n",
       "\n",
       "    .dataframe tbody tr th {\n",
       "        vertical-align: top;\n",
       "    }\n",
       "\n",
       "    .dataframe thead th {\n",
       "        text-align: right;\n",
       "    }\n",
       "</style>\n",
       "<table border=\"1\" class=\"dataframe\">\n",
       "  <thead>\n",
       "    <tr style=\"text-align: right;\">\n",
       "      <th></th>\n",
       "      <th>loss</th>\n",
       "      <th>mse</th>\n",
       "      <th>mae</th>\n",
       "      <th>val_loss</th>\n",
       "      <th>val_mse</th>\n",
       "      <th>val_mae</th>\n",
       "      <th>epoch</th>\n",
       "    </tr>\n",
       "  </thead>\n",
       "  <tbody>\n",
       "    <tr>\n",
       "      <th>0</th>\n",
       "      <td>606.105957</td>\n",
       "      <td>606.105957</td>\n",
       "      <td>22.888611</td>\n",
       "      <td>582.531189</td>\n",
       "      <td>582.531189</td>\n",
       "      <td>22.255718</td>\n",
       "      <td>0</td>\n",
       "    </tr>\n",
       "    <tr>\n",
       "      <th>1</th>\n",
       "      <td>583.259644</td>\n",
       "      <td>583.259644</td>\n",
       "      <td>22.371864</td>\n",
       "      <td>559.702148</td>\n",
       "      <td>559.702148</td>\n",
       "      <td>21.717823</td>\n",
       "      <td>1</td>\n",
       "    </tr>\n",
       "    <tr>\n",
       "      <th>2</th>\n",
       "      <td>559.223633</td>\n",
       "      <td>559.223633</td>\n",
       "      <td>21.818195</td>\n",
       "      <td>535.573242</td>\n",
       "      <td>535.573242</td>\n",
       "      <td>21.129068</td>\n",
       "      <td>2</td>\n",
       "    </tr>\n",
       "    <tr>\n",
       "      <th>3</th>\n",
       "      <td>533.756653</td>\n",
       "      <td>533.756653</td>\n",
       "      <td>21.192526</td>\n",
       "      <td>508.531769</td>\n",
       "      <td>508.531769</td>\n",
       "      <td>20.444328</td>\n",
       "      <td>3</td>\n",
       "    </tr>\n",
       "    <tr>\n",
       "      <th>4</th>\n",
       "      <td>504.261078</td>\n",
       "      <td>504.261078</td>\n",
       "      <td>20.465904</td>\n",
       "      <td>478.426300</td>\n",
       "      <td>478.426300</td>\n",
       "      <td>19.647320</td>\n",
       "      <td>4</td>\n",
       "    </tr>\n",
       "    <tr>\n",
       "      <th>...</th>\n",
       "      <td>...</td>\n",
       "      <td>...</td>\n",
       "      <td>...</td>\n",
       "      <td>...</td>\n",
       "      <td>...</td>\n",
       "      <td>...</td>\n",
       "      <td>...</td>\n",
       "    </tr>\n",
       "    <tr>\n",
       "      <th>495</th>\n",
       "      <td>12.754156</td>\n",
       "      <td>12.754156</td>\n",
       "      <td>2.422289</td>\n",
       "      <td>14.627441</td>\n",
       "      <td>14.627441</td>\n",
       "      <td>3.133241</td>\n",
       "      <td>495</td>\n",
       "    </tr>\n",
       "    <tr>\n",
       "      <th>496</th>\n",
       "      <td>12.761134</td>\n",
       "      <td>12.761134</td>\n",
       "      <td>2.429406</td>\n",
       "      <td>14.624519</td>\n",
       "      <td>14.624519</td>\n",
       "      <td>3.131277</td>\n",
       "      <td>496</td>\n",
       "    </tr>\n",
       "    <tr>\n",
       "      <th>497</th>\n",
       "      <td>12.735104</td>\n",
       "      <td>12.735104</td>\n",
       "      <td>2.418666</td>\n",
       "      <td>14.600205</td>\n",
       "      <td>14.600205</td>\n",
       "      <td>3.133198</td>\n",
       "      <td>497</td>\n",
       "    </tr>\n",
       "    <tr>\n",
       "      <th>498</th>\n",
       "      <td>12.777089</td>\n",
       "      <td>12.777089</td>\n",
       "      <td>2.439941</td>\n",
       "      <td>14.608987</td>\n",
       "      <td>14.608987</td>\n",
       "      <td>3.140955</td>\n",
       "      <td>498</td>\n",
       "    </tr>\n",
       "    <tr>\n",
       "      <th>499</th>\n",
       "      <td>12.926130</td>\n",
       "      <td>12.926130</td>\n",
       "      <td>2.414940</td>\n",
       "      <td>14.664268</td>\n",
       "      <td>14.664268</td>\n",
       "      <td>3.132813</td>\n",
       "      <td>499</td>\n",
       "    </tr>\n",
       "  </tbody>\n",
       "</table>\n",
       "<p>500 rows × 7 columns</p>\n",
       "</div>"
      ],
      "text/plain": [
       "           loss         mse        mae    val_loss     val_mse    val_mae  \\\n",
       "0    606.105957  606.105957  22.888611  582.531189  582.531189  22.255718   \n",
       "1    583.259644  583.259644  22.371864  559.702148  559.702148  21.717823   \n",
       "2    559.223633  559.223633  21.818195  535.573242  535.573242  21.129068   \n",
       "3    533.756653  533.756653  21.192526  508.531769  508.531769  20.444328   \n",
       "4    504.261078  504.261078  20.465904  478.426300  478.426300  19.647320   \n",
       "..          ...         ...        ...         ...         ...        ...   \n",
       "495   12.754156   12.754156   2.422289   14.627441   14.627441   3.133241   \n",
       "496   12.761134   12.761134   2.429406   14.624519   14.624519   3.131277   \n",
       "497   12.735104   12.735104   2.418666   14.600205   14.600205   3.133198   \n",
       "498   12.777089   12.777089   2.439941   14.608987   14.608987   3.140955   \n",
       "499   12.926130   12.926130   2.414940   14.664268   14.664268   3.132813   \n",
       "\n",
       "     epoch  \n",
       "0        0  \n",
       "1        1  \n",
       "2        2  \n",
       "3        3  \n",
       "4        4  \n",
       "..     ...  \n",
       "495    495  \n",
       "496    496  \n",
       "497    497  \n",
       "498    498  \n",
       "499    499  \n",
       "\n",
       "[500 rows x 7 columns]"
      ]
     },
     "execution_count": 32,
     "metadata": {},
     "output_type": "execute_result"
    }
   ],
   "source": [
    "boston = load_boston()\n",
    "\n",
    "X = pd.DataFrame(boston.data)\n",
    "y = boston.target\n",
    "\n",
    "X.columns = boston.feature_names\n",
    "\n",
    "x_train, x_test, y_train, y_test = train_test_split(X, y, test_size=.33, random_state = 32)\n",
    "\n",
    "scaler = MinMaxScaler(feature_range=(0,1))\n",
    "\n",
    "x_train_2c = x_train[{\"RM\", \"LSTAT\"}]\n",
    "x_test_2c = x_test[{\"RM\", \"LSTAT\"}]\n",
    "\n",
    "x_train = scaler.fit_transform(x_train)\n",
    "x_test =  scaler.transform(x_test)\n",
    "\n",
    "x_train_2c = scaler.fit_transform(x_train_2c)\n",
    "x_test_2c = scaler.transform(x_test_2c)\n",
    "\n",
    "model1 = tf.keras.models.Sequential([\n",
    "    tf.keras.layers.Dense(100, input_dim=13, activation='relu'),\n",
    "    #tf.keras.layers.Dropout(0.2),\n",
    "    tf.keras.layers.Dense(1, activation='linear')\n",
    "])\n",
    "\n",
    "model2 = tf.keras.models.Sequential([\n",
    "    tf.keras.layers.Dense(20, input_dim=2, activation='relu'),\n",
    "    #tf.keras.layers.Dropout(0.2),\n",
    "    tf.keras.layers.Dense(1, activation='linear')\n",
    "])\n",
    "\n",
    "model = tf.keras.experimental.WideDeepModel(model1, model2, activation=None)\n",
    "\n",
    "model.compile(optimizer='adam', loss='mse', metrics=['mse','mae'])\n",
    "\n",
    "\n",
    "history = model.fit([x_train,x_train_2c], y_train, epochs=500, verbose=0, validation_split = 0.1)\n",
    "\n",
    "\n",
    "\n",
    "df = pd.DataFrame(history.history)\n",
    "df['epoch'] = history.epoch\n",
    "\n",
    "df\n",
    "\n"
   ]
  },
  {
   "cell_type": "code",
   "execution_count": null,
   "metadata": {},
   "outputs": [],
   "source": []
  }
 ],
 "metadata": {
  "kernelspec": {
   "display_name": "inclassEnv",
   "language": "python",
   "name": "inclassenv"
  },
  "language_info": {
   "codemirror_mode": {
    "name": "ipython",
    "version": 3
   },
   "file_extension": ".py",
   "mimetype": "text/x-python",
   "name": "python",
   "nbconvert_exporter": "python",
   "pygments_lexer": "ipython3",
   "version": "3.7.9"
  }
 },
 "nbformat": 4,
 "nbformat_minor": 4
}
