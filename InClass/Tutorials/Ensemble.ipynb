{
 "cells": [
  {
   "cell_type": "markdown",
   "metadata": {},
   "source": [
    "# Ensemble"
   ]
  },
  {
   "cell_type": "markdown",
   "metadata": {},
   "source": [
    "### Simple Ensemble"
   ]
  },
  {
   "cell_type": "code",
   "execution_count": 8,
   "metadata": {},
   "outputs": [
    {
     "name": "stdout",
     "output_type": "stream",
     "text": [
      "LinearRegression 0.6156546302984374\n",
      "KNeighborsRegressor 0.7441662480800558\n",
      "SVR 0.6429265085116713\n",
      "VotingRegressor 0.7158920576900478\n"
     ]
    }
   ],
   "source": [
    "import pandas as pd\n",
    "import numpy as np\n",
    "\n",
    "from sklearn.linear_model import LinearRegression\n",
    "from sklearn.metrics import r2_score\n",
    "from sklearn.datasets import load_boston\n",
    "from sklearn.neighbors import KNeighborsRegressor\n",
    "from sklearn.svm import SVR\n",
    "from sklearn.model_selection import train_test_split\n",
    "\n",
    "from sklearn.ensemble import VotingRegressor\n",
    "\n",
    "boston = load_boston()\n",
    "\n",
    "\n",
    "x, y = pd.DataFrame(boston.data), boston.target\n",
    "\n",
    "x.columns = boston.feature_names\n",
    "\n",
    "x = x[[\"RM\",\"LSTAT\"]]\n",
    "\n",
    "x_train, x_test, y_train, y_test =  train_test_split(x,y,test_size=.3, random_state=32)\n",
    "\n",
    "lin_reg = LinearRegression()\n",
    "knn_reg = KNeighborsRegressor()\n",
    "svr_reg = SVR()\n",
    "\n",
    "\n",
    "voting_reg = VotingRegressor(estimators=[('lr', lin_reg), ('knn', knn_reg), ('svr', svr_reg)])\n",
    "\n",
    "for reg in (lin_reg, knn_reg, svr_reg, voting_reg):\n",
    "    reg.fit(x_train, y_train)\n",
    "    y_pred = reg.predict(x_test)\n",
    "    print(reg.__class__.__name__, r2_score(y_test,y_pred))\n",
    "\n",
    "\n"
   ]
  },
  {
   "cell_type": "markdown",
   "metadata": {},
   "source": [
    "### Boosting"
   ]
  },
  {
   "cell_type": "code",
   "execution_count": 1,
   "metadata": {},
   "outputs": [
    {
     "name": "stdout",
     "output_type": "stream",
     "text": [
      "Accuracy  0.6982553277775345\n"
     ]
    }
   ],
   "source": [
    "import pandas as pd\n",
    "import numpy as np\n",
    "\n",
    "from sklearn.linear_model import LinearRegression\n",
    "from sklearn.metrics import r2_score\n",
    "from sklearn.datasets import load_boston\n",
    "\n",
    "from sklearn.model_selection import train_test_split\n",
    "\n",
    "from sklearn.ensemble import VotingRegressor, BaggingRegressor\n",
    "\n",
    "boston = load_boston()\n",
    "\n",
    "\n",
    "x, y = pd.DataFrame(boston.data), boston.target\n",
    "\n",
    "x.columns = boston.feature_names\n",
    "\n",
    "\n",
    "\n",
    "\n",
    "x_train, x_test, y_train, y_test =  train_test_split(x,y,test_size=.3, random_state=32)\n",
    "\n",
    "\n",
    "bagging_reg = BaggingRegressor(LinearRegression(), n_estimators=10, max_samples=50, bootstrap=True, n_jobs=-1, random_state=20)\n",
    "\n",
    "bagging_reg.fit(x_train, y_train)\n",
    "\n",
    "y_pred = bagging_reg.predict(x_test)\n",
    "\n",
    "print('Accuracy ', r2_score(y_test, y_pred))"
   ]
  },
  {
   "cell_type": "markdown",
   "metadata": {},
   "source": [
    "### AdaBoost"
   ]
  },
  {
   "cell_type": "code",
   "execution_count": 9,
   "metadata": {},
   "outputs": [
    {
     "name": "stdout",
     "output_type": "stream",
     "text": [
      "Cross Validation  0.7259929401246311\n",
      "SVC Alone Accuracy  0.6249491158776599\n",
      "ADA Score  0.6683034162349951\n"
     ]
    }
   ],
   "source": [
    "import numpy as np\n",
    "import pandas as pd\n",
    "\n",
    "from sklearn.model_selection import train_test_split, cross_val_score, GridSearchCV\n",
    "from sklearn.preprocessing import MinMaxScaler\n",
    "from sklearn.ensemble import AdaBoostClassifier, AdaBoostRegressor\n",
    "from sklearn.svm import SVR\n",
    "\n",
    "import matplotlib.pyplot as plt\n",
    "\n",
    "\n",
    "boston = load_boston()\n",
    "\n",
    "x, y = boston.data, boston.target\n",
    "\n",
    "\n",
    "x_train, x_test, y_train, y_test = train_test_split(x, y, test_size=.3, random_state=0)\n",
    "\n",
    "scaling = MinMaxScaler(feature_range=(-1,1)).fit(x_train)\n",
    "\n",
    "\n",
    "x_train = scaling.transform(x_train)\n",
    "x_test = scaling.transform(x_test)\n",
    "\n",
    "\n",
    "svc = SVR( kernel='linear', C=10.0)\n",
    "\n",
    "cv = cross_val_score(svc, x_train, y_train, cv=10)\n",
    "\n",
    "model = svc.fit(x_train, y_train)\n",
    "\n",
    "score = svc.score(x_test, y_test)\n",
    "\n",
    "print (\"Cross Validation \",np.mean(cv))\n",
    "print (\"SVC Alone Accuracy \",score)\n",
    "\n",
    "y_pred = svc.predict(x_test)\n",
    "\n",
    "\n",
    "ada_clf = AdaBoostRegressor(SVR( kernel='linear', C=10.0),  learning_rate=0.15, random_state=32, n_estimators=100)\n",
    "\n",
    "ada_clf.fit(x_train, y_train)\n",
    "\n",
    "score = ada_clf.score(x_test, y_test)\n",
    "\n",
    "print(\"ADA Score \", score)\n",
    "\n",
    "y_pred = ada_clf.predict(x_test)\n"
   ]
  },
  {
   "cell_type": "code",
   "execution_count": null,
   "metadata": {},
   "outputs": [],
   "source": []
  }
 ],
 "metadata": {
  "kernelspec": {
   "display_name": "inclassEnv",
   "language": "python",
   "name": "inclassenv"
  },
  "language_info": {
   "codemirror_mode": {
    "name": "ipython",
    "version": 3
   },
   "file_extension": ".py",
   "mimetype": "text/x-python",
   "name": "python",
   "nbconvert_exporter": "python",
   "pygments_lexer": "ipython3",
   "version": "3.7.9"
  }
 },
 "nbformat": 4,
 "nbformat_minor": 4
}
