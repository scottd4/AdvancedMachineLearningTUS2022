{
 "cells": [
  {
   "cell_type": "markdown",
   "metadata": {},
   "source": [
    "# Hyperparameter Tuning"
   ]
  },
  {
   "cell_type": "markdown",
   "metadata": {},
   "source": [
    "<li> Install skopt library"
   ]
  },
  {
   "cell_type": "code",
   "execution_count": 2,
   "metadata": {
    "scrolled": true
   },
   "outputs": [
    {
     "name": "stdout",
     "output_type": "stream",
     "text": [
      "Collecting scikit-optimize\n",
      "  Downloading scikit_optimize-0.9.0-py2.py3-none-any.whl (100 kB)\n",
      "\u001b[K     |████████████████████████████████| 100 kB 5.7 MB/s ta 0:00:01\n",
      "\u001b[?25hRequirement already satisfied: scikit-learn>=0.20.0 in /opt/anaconda3/envs/inclassEnv/lib/python3.7/site-packages (from scikit-optimize) (0.23.2)\n",
      "Requirement already satisfied: numpy>=1.13.3 in /opt/anaconda3/envs/inclassEnv/lib/python3.7/site-packages (from scikit-optimize) (1.19.1)\n",
      "Requirement already satisfied: scipy>=0.19.1 in /opt/anaconda3/envs/inclassEnv/lib/python3.7/site-packages (from scikit-optimize) (1.5.2)\n",
      "Collecting pyaml>=16.9\n",
      "  Downloading pyaml-21.10.1-py2.py3-none-any.whl (24 kB)\n",
      "Requirement already satisfied: joblib>=0.11 in /opt/anaconda3/envs/inclassEnv/lib/python3.7/site-packages (from scikit-optimize) (0.16.0)\n",
      "Requirement already satisfied: threadpoolctl>=2.0.0 in /opt/anaconda3/envs/inclassEnv/lib/python3.7/site-packages (from scikit-learn>=0.20.0->scikit-optimize) (2.1.0)\n",
      "Collecting PyYAML\n",
      "  Downloading PyYAML-6.0-cp37-cp37m-macosx_10_9_x86_64.whl (189 kB)\n",
      "\u001b[K     |████████████████████████████████| 189 kB 40.2 MB/s eta 0:00:01\n",
      "\u001b[?25hInstalling collected packages: PyYAML, pyaml, scikit-optimize\n",
      "Successfully installed PyYAML-6.0 pyaml-21.10.1 scikit-optimize-0.9.0\n",
      "Note: you may need to restart the kernel to use updated packages.\n"
     ]
    }
   ],
   "source": [
    "pip install scikit-optimize"
   ]
  },
  {
   "cell_type": "markdown",
   "metadata": {},
   "source": [
    "<li> Manual Tuning - Super Slow"
   ]
  },
  {
   "cell_type": "code",
   "execution_count": 14,
   "metadata": {},
   "outputs": [
    {
     "name": "stdout",
     "output_type": "stream",
     "text": [
      "------------------------------\n",
      "Just crossvalidation\n",
      "------------------------------\n",
      "Accuracy: 0.978 (0.037)\n",
      "------------------------------\n",
      "Manual Tuning\n",
      "------------------------------\n",
      "Best Accuracy: 0.981\n",
      "Best Parameters: [405.14576119775586, 'rbf', 2, 0.39568268352745994]\n"
     ]
    }
   ],
   "source": [
    "import numpy as np\n",
    "import pandas as pd\n",
    "\n",
    "from sklearn.datasets import load_wine\n",
    "from sklearn.model_selection import train_test_split, cross_val_score, RepeatedStratifiedKFold\n",
    "from sklearn.preprocessing import MinMaxScaler\n",
    "from sklearn.svm import SVC\n",
    "from sklearn.metrics import confusion_matrix\n",
    "\n",
    "wine = load_wine()\n",
    "\n",
    "#print(wine.DESCR)\n",
    "\n",
    "x, y = wine.data, wine.target\n",
    "\n",
    "x_train, x_test, y_train, y_test = train_test_split(x,y, test_size=.33, random_state=32)\n",
    "\n",
    "\n",
    "#Scale feature values to between -1 and 1 but retain spacial orientation of data\n",
    "scaling = MinMaxScaler(feature_range=(-1,1)).fit(x_train)\n",
    "\n",
    "#apply scaling to both train and test set\n",
    "x_train = scaling.transform(x_train)\n",
    "x_test = scaling.transform(x_test)\n",
    "\n",
    "model = SVC()\n",
    "print('-'*30)\n",
    "print('Just crossvalidation')\n",
    "print('-'*30)\n",
    "cv = RepeatedStratifiedKFold(n_splits=10, n_repeats=3, random_state=1)\n",
    "# evaluate model\n",
    "m_scores = cross_val_score(model, x_train, y_train, scoring='accuracy', cv=cv, n_jobs=-1, error_score='raise')\n",
    "print('Accuracy: %.3f (%.3f)' % (np.mean(m_scores), np.std(m_scores)))\n",
    "\n",
    "\n",
    "from skopt.space import Integer\n",
    "from skopt.space import Real\n",
    "from skopt.space import Categorical\n",
    "from skopt.utils import use_named_args\n",
    "from skopt import gp_minimize\n",
    "\n",
    "# define the space of hyperparameters to search\n",
    "search_space = list()\n",
    "search_space.append(Real(1e-6, 1000.0, 'log-uniform', name='C'))\n",
    "search_space.append(Categorical(['linear', 'poly', 'rbf'], name='kernel'))\n",
    "search_space.append(Integer(1, 3, name='degree'))\n",
    "search_space.append(Real(1e-6, 10.0, 'log-uniform', name='gamma'))\n",
    "\n",
    "\n",
    "@use_named_args(search_space)\n",
    "def evaluate_model(**params):\n",
    "    # configure the model with specific hyperparameters\n",
    "    model = SVC()\n",
    "    model.set_params(**params)\n",
    "    # calculate 5-fold cross validation\n",
    "    result = cross_val_score(model, x_train, y_train, cv=cv, n_jobs=-1, scoring='accuracy')\n",
    "    # calculate the mean of the scores\n",
    "    estimate = np.mean(result)\n",
    "    # convert from a maximizing score to a minimizing score\n",
    "    return 1.0 - estimate\n",
    "\n",
    "\n",
    "\n",
    "\n",
    "import warnings\n",
    "warnings.filterwarnings('ignore')\n",
    "\n",
    "print('-'*30)\n",
    "print('Manual Tuning')\n",
    "print('-'*30)\n",
    "result = gp_minimize(evaluate_model, search_space)\n",
    "# summarizing finding:\n",
    "print('Best Accuracy: %.3f' % (1.0 - result.fun))\n",
    "print('Best Parameters: %s' % (result.x))"
   ]
  },
  {
   "cell_type": "markdown",
   "metadata": {},
   "source": [
    "<li>Auto Tuning - Fast but not as Accurate"
   ]
  },
  {
   "cell_type": "code",
   "execution_count": 15,
   "metadata": {},
   "outputs": [
    {
     "name": "stdout",
     "output_type": "stream",
     "text": [
      "------------------------------\n",
      "Auto Tuning\n",
      "------------------------------\n",
      "0.9606060606060606\n",
      "{'C': 1000.0, 'degree': 1, 'gamma': 1e-06, 'kernel': 'linear'}\n"
     ]
    }
   ],
   "source": [
    "print('-'*30)\n",
    "print('Auto Tuning')\n",
    "print('-'*30)\n",
    "\n",
    "from sklearn.model_selection import GridSearchCV, RandomizedSearchCV\n",
    "\n",
    "search_space = dict()\n",
    "search_space['C'] = (1e-6, 1000.0, 'log-uniform')\n",
    "search_space['gamma'] = (1e-6, 10.0, 'log-uniform')\n",
    "search_space['degree'] = (1,3)\n",
    "search_space['kernel'] = [ 'linear', 'poly', 'rbf']\n",
    "\n",
    "#cv = RepeatedStratifiedKFold(n_splits=10, n_repeats=3, random_state=1)\n",
    "# define the search\n",
    "\n",
    "model = SVC()\n",
    "search = GridSearchCV(model, search_space, n_jobs=-1, cv=cv,scoring='acuracy')\n",
    "\n",
    "search.fit(x_train, y_train)\n",
    "# report the best result\n",
    "print(search.best_score_)\n",
    "print(search.best_params_)"
   ]
  }
 ],
 "metadata": {
  "kernelspec": {
   "display_name": "inclassEnv",
   "language": "python",
   "name": "inclassenv"
  },
  "language_info": {
   "codemirror_mode": {
    "name": "ipython",
    "version": 3
   },
   "file_extension": ".py",
   "mimetype": "text/x-python",
   "name": "python",
   "nbconvert_exporter": "python",
   "pygments_lexer": "ipython3",
   "version": "3.7.9"
  }
 },
 "nbformat": 4,
 "nbformat_minor": 5
}
